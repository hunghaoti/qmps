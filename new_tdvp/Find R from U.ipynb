{
 "cells": [
  {
   "cell_type": "code",
   "execution_count": 6,
   "metadata": {},
   "outputs": [
    {
     "data": {
      "text/plain": [
       "1"
      ]
     },
     "execution_count": 6,
     "metadata": {},
     "output_type": "execute_result"
    }
   ],
   "source": [
    "from scipy.stats import unitary_group\n",
    "import numpy as np\n",
    "np.set_printoptions(linewidth=130)\n",
    "\n",
    "X = np.array([\n",
    "    [0,1],\n",
    "    [1,0]\n",
    "])\n",
    "\n",
    "I = np.eye(2)\n",
    "\n",
    "Z = np.array([\n",
    "    [1,0],\n",
    "    [0,-1]\n",
    "])\n",
    "\n",
    "H = (1/np.sqrt(2)) * np.array([\n",
    "    [1,1],\n",
    "    [1,-1]\n",
    "])\n",
    "\n",
    "CNOT = np.array([\n",
    "    [1,0,0,0],\n",
    "    [0,1,0,0],\n",
    "    [0,0,0,1],\n",
    "    [0,0,1,0]\n",
    "]).reshape(2,2,2,2)"
   ]
  },
  {
   "cell_type": "code",
   "execution_count": 85,
   "metadata": {},
   "outputs": [
    {
     "name": "stdout",
     "output_type": "stream",
     "text": [
      "[ 0.10471327+0.j         -0.055225  -0.10458817j -0.055225  +0.10458817j  0.89528673+0.j        ]\n"
     ]
    }
   ],
   "source": [
    "U2 = unitary_group.rvs(4)\n",
    "U2_ = U2.conj().T\n",
    "\n",
    "U2 = U2.reshape(2,2,2,2)\n",
    "U2_ = U2_.reshape(2,2,2,2)\n",
    "\n",
    "right_env = np.einsum(\n",
    "    U2,  [0,1,5,4],\n",
    "    U2_, [6,4,2,3],\n",
    "    [0,1,2,3,5,6]\n",
    ")[0,0,0,0,...]\n",
    "\n",
    "print(right_env.reshape(4))"
   ]
  },
  {
   "cell_type": "code",
   "execution_count": 87,
   "metadata": {},
   "outputs": [],
   "source": [
    "R = unitary_group.rvs(4).reshape(2,2,2,2)\n",
    "re = np.einsum(\n",
    "    H,    [0,8],\n",
    "    CNOT, [8,1,6,9],\n",
    "    R,    [9,2,10,5],\n",
    "    CNOT, [7,10,11,4],\n",
    "    H,    [11,3],\n",
    "    [0,1,2,3,4,5,6,7]\n",
    ")[0,0,0,0,0,0,...]"
   ]
  },
  {
   "cell_type": "code",
   "execution_count": null,
   "metadata": {},
   "outputs": [],
   "source": []
  },
  {
   "cell_type": "code",
   "execution_count": null,
   "metadata": {},
   "outputs": [],
   "source": []
  },
  {
   "cell_type": "code",
   "execution_count": null,
   "metadata": {},
   "outputs": [],
   "source": []
  }
 ],
 "metadata": {
  "kernelspec": {
   "display_name": "Python 3",
   "language": "python",
   "name": "python3"
  },
  "language_info": {
   "codemirror_mode": {
    "name": "ipython",
    "version": 3
   },
   "file_extension": ".py",
   "mimetype": "text/x-python",
   "name": "python",
   "nbconvert_exporter": "python",
   "pygments_lexer": "ipython3",
   "version": "3.7.6"
  }
 },
 "nbformat": 4,
 "nbformat_minor": 4
}
